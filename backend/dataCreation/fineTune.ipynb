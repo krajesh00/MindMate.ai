{
 "cells": [
  {
   "cell_type": "code",
   "execution_count": 1,
   "metadata": {},
   "outputs": [],
   "source": [
    "import pandas as pd\n",
    "import json\n",
    "from openai import OpenAI"
   ]
  },
  {
   "cell_type": "code",
   "execution_count": 21,
   "metadata": {},
   "outputs": [],
   "source": [
    "df = pd.read_csv(\"prompts.csv\")"
   ]
  },
  {
   "cell_type": "code",
   "execution_count": 22,
   "metadata": {},
   "outputs": [],
   "source": [
    "df = df.drop_duplicates(subset=\"prompt\")"
   ]
  },
  {
   "cell_type": "code",
   "execution_count": 48,
   "metadata": {},
   "outputs": [],
   "source": [
    "chatContent = \"You are an emotional chatbot that aims to pick out the three most accurate emotions you can from a prompt\"\n",
    "jsonl_file_path = 'prompts.jsonl'\n",
    "base_structure = {\n",
    "    \"messages\": [\n",
    "        {\"role\": \"system\", \"content\": chatContent},\n",
    "        {\"role\": \"user\", \"content\": None},  # Placeholder for 'prompt'\n",
    "        {\"role\": \"assistant\", \"content\": None}  # Placeholder for 'feeling'\n",
    "    ]\n",
    "}"
   ]
  },
  {
   "cell_type": "code",
   "execution_count": 49,
   "metadata": {},
   "outputs": [
    {
     "name": "stdout",
     "output_type": "stream",
     "text": [
      "Conversion complete. Data saved to prompts.jsonl.\n"
     ]
    }
   ],
   "source": [
    "with open(jsonl_file_path, 'w') as jsonl_file:\n",
    "    for index, row in df.iterrows():\n",
    "        # Copy the base structure to avoid mutating the original\n",
    "        structured_row = json.loads(json.dumps(base_structure))\n",
    "        \n",
    "        # Substitute 'prompt' and 'feeling'\n",
    "        structured_row[\"messages\"][1][\"content\"] = row['prompt']\n",
    "        structured_row[\"messages\"][2][\"content\"] = row['feelings']\n",
    "        \n",
    "        # Write the structured row to the JSONL file\n",
    "        jsonl_file.write(json.dumps(structured_row) + '\\n')\n",
    "\n",
    "print(f\"Conversion complete. Data saved to {jsonl_file_path}.\")\n",
    "    "
   ]
  },
  {
   "cell_type": "code",
   "execution_count": 44,
   "metadata": {},
   "outputs": [],
   "source": [
    "\n",
    "client = OpenAI()\n",
    "\n",
    "client.files.create(\n",
    "  file=open(\"first500.jsonl\", \"rb\"),\n",
    "  purpose=\"fine-tune\"\n",
    ")\n",
    "# first 500 - file-hvUP73yBmGzOhRedfSfEwZ8n\n",
    "# val 200 - file-qlICatiOEikFNod9IDKE5Fj5\n",
    "# all 2000 - file-AQIYxp5gM3TKoqLz2gl4C9qS\n"
   ]
  },
  {
   "cell_type": "code",
   "execution_count": null,
   "metadata": {},
   "outputs": [],
   "source": [
    "client.fine_tuning.jobs.create(\n",
    "  training_file=\"file-hvUP73yBmGzOhRedfSfEwZ8n\", \n",
    "  model=\"gpt-3.5-turbo\"\n",
    ")"
   ]
  },
  {
   "cell_type": "code",
   "execution_count": 8,
   "metadata": {},
   "outputs": [],
   "source": [
    "client = OpenAI(api_key='<---- KEY GOES HERE ------->')\n",
    "message = \"I don't have an appetite\" # Template message\n",
    "completion = client.chat.completions.create(\n",
    "  model=\"ft:gpt-3.5-turbo-1106:personal:500-with-val:9BHq7p8I\",\n",
    "  messages=[\n",
    "    {\"role\": \"system\", \"content\": \"You are an emotional chatbot that aims to pick out the three most accurate emotions you can from a prompt\"},\n",
    "    {\"role\": \"user\", \"content\": message}\n",
    "  ]\n",
    ")"
   ]
  },
  {
   "cell_type": "code",
   "execution_count": 9,
   "metadata": {},
   "outputs": [
    {
     "name": "stdout",
     "output_type": "stream",
     "text": [
      "ChatCompletionMessage(content='Loss of appetite, Disinterest, Apathy', role='assistant', function_call=None, tool_calls=None)\n"
     ]
    }
   ],
   "source": [
    "print(completion.choices[0].message)"
   ]
  }
 ],
 "metadata": {
  "kernelspec": {
   "display_name": "Python 3",
   "language": "python",
   "name": "python3"
  },
  "language_info": {
   "codemirror_mode": {
    "name": "ipython",
    "version": 3
   },
   "file_extension": ".py",
   "mimetype": "text/x-python",
   "name": "python",
   "nbconvert_exporter": "python",
   "pygments_lexer": "ipython3",
   "version": "3.11.2"
  }
 },
 "nbformat": 4,
 "nbformat_minor": 2
}
